{
 "cells": [
  {
   "cell_type": "code",
   "execution_count": 2,
   "id": "88233613",
   "metadata": {},
   "outputs": [
    {
     "name": "stderr",
     "output_type": "stream",
     "text": [
      "[nltk_data] Downloading package punkt to\n",
      "[nltk_data]     C:\\Users\\Rajasekar\\AppData\\Roaming\\nltk_data...\n",
      "[nltk_data]   Package punkt is already up-to-date!\n",
      "[nltk_data] Downloading package stopwords to\n",
      "[nltk_data]     C:\\Users\\Rajasekar\\AppData\\Roaming\\nltk_data...\n",
      "[nltk_data]   Package stopwords is already up-to-date!\n",
      "[nltk_data] Downloading package wordnet to\n",
      "[nltk_data]     C:\\Users\\Rajasekar\\AppData\\Roaming\\nltk_data...\n",
      "[nltk_data]   Package wordnet is already up-to-date!\n"
     ]
    }
   ],
   "source": [
    "import numpy as np # linear algebra\n",
    "import pandas as pd # data processing, CSV file I/O (e.g. pd.read_csv)\n",
    "import matplotlib.pyplot as plt\n",
    "import seaborn as sns\n",
    "import warnings\n",
    "warnings.filterwarnings('ignore')\n",
    "\n",
    "\n",
    "# NLTK modules\n",
    "import nltk\n",
    "nltk.download('punkt')\n",
    "nltk.download('stopwords')\n",
    "nltk.download('wordnet')\n",
    "\n",
    "import re\n",
    "\n",
    "from gensim.models import Word2Vec # Word2Vec module"
   ]
  },
  {
   "cell_type": "code",
   "execution_count": 3,
   "id": "cfe5da55",
   "metadata": {},
   "outputs": [],
   "source": [
    "import re\n",
    "\n",
    "from gensim.models import Word2Vec # Word2Vec module\n",
    "\n",
    "from sklearn.model_selection import GridSearchCV, train_test_split\n",
    "from sklearn.feature_extraction.text import TfidfVectorizer\n",
    "from sklearn.preprocessing import LabelEncoder\n",
    "from sklearn.pipeline import Pipeline\n",
    "from sklearn.naive_bayes import GaussianNB, MultinomialNB\n",
    "from sklearn.svm import SVC\n",
    "from sklearn.tree import DecisionTreeClassifier"
   ]
  },
  {
   "cell_type": "code",
   "execution_count": 4,
   "id": "c9631f07",
   "metadata": {},
   "outputs": [],
   "source": [
    "from sklearn.metrics import precision_score, recall_score, f1_score, accuracy_score"
   ]
  },
  {
   "cell_type": "code",
   "execution_count": 5,
   "id": "43708304",
   "metadata": {},
   "outputs": [],
   "source": [
    "from sklearn.neural_network import MLPClassifier\n",
    "from sklearn.linear_model import SGDClassifier"
   ]
  },
  {
   "cell_type": "code",
   "execution_count": 6,
   "id": "113f6665",
   "metadata": {},
   "outputs": [],
   "source": [
    "news_data = pd.read_csv('C:/Users/Rajasekar/Downloads/bbc-text.csv')"
   ]
  },
  {
   "cell_type": "code",
   "execution_count": 7,
   "id": "ee7878ab",
   "metadata": {},
   "outputs": [
    {
     "name": "stdout",
     "output_type": "stream",
     "text": [
      "Shape : (2225, 2), \n",
      "\n",
      "Columns: Index(['category', 'text'], dtype='object'), \n",
      "\n",
      "Categories: ['tech' 'business' 'sport' 'entertainment' 'politics']\n"
     ]
    },
    {
     "data": {
      "text/html": [
       "<div>\n",
       "<style scoped>\n",
       "    .dataframe tbody tr th:only-of-type {\n",
       "        vertical-align: middle;\n",
       "    }\n",
       "\n",
       "    .dataframe tbody tr th {\n",
       "        vertical-align: top;\n",
       "    }\n",
       "\n",
       "    .dataframe thead th {\n",
       "        text-align: right;\n",
       "    }\n",
       "</style>\n",
       "<table border=\"1\" class=\"dataframe\">\n",
       "  <thead>\n",
       "    <tr style=\"text-align: right;\">\n",
       "      <th></th>\n",
       "      <th>category</th>\n",
       "      <th>text</th>\n",
       "    </tr>\n",
       "  </thead>\n",
       "  <tbody>\n",
       "    <tr>\n",
       "      <th>0</th>\n",
       "      <td>tech</td>\n",
       "      <td>tv future in the hands of viewers with home th...</td>\n",
       "    </tr>\n",
       "    <tr>\n",
       "      <th>1</th>\n",
       "      <td>business</td>\n",
       "      <td>worldcom boss  left books alone  former worldc...</td>\n",
       "    </tr>\n",
       "    <tr>\n",
       "      <th>2</th>\n",
       "      <td>sport</td>\n",
       "      <td>tigers wary of farrell  gamble  leicester say ...</td>\n",
       "    </tr>\n",
       "    <tr>\n",
       "      <th>3</th>\n",
       "      <td>sport</td>\n",
       "      <td>yeading face newcastle in fa cup premiership s...</td>\n",
       "    </tr>\n",
       "    <tr>\n",
       "      <th>4</th>\n",
       "      <td>entertainment</td>\n",
       "      <td>ocean s twelve raids box office ocean s twelve...</td>\n",
       "    </tr>\n",
       "    <tr>\n",
       "      <th>...</th>\n",
       "      <td>...</td>\n",
       "      <td>...</td>\n",
       "    </tr>\n",
       "    <tr>\n",
       "      <th>2220</th>\n",
       "      <td>business</td>\n",
       "      <td>cars pull down us retail figures us retail sal...</td>\n",
       "    </tr>\n",
       "    <tr>\n",
       "      <th>2221</th>\n",
       "      <td>politics</td>\n",
       "      <td>kilroy unveils immigration policy ex-chatshow ...</td>\n",
       "    </tr>\n",
       "    <tr>\n",
       "      <th>2222</th>\n",
       "      <td>entertainment</td>\n",
       "      <td>rem announce new glasgow concert us band rem h...</td>\n",
       "    </tr>\n",
       "    <tr>\n",
       "      <th>2223</th>\n",
       "      <td>politics</td>\n",
       "      <td>how political squabbles snowball it s become c...</td>\n",
       "    </tr>\n",
       "    <tr>\n",
       "      <th>2224</th>\n",
       "      <td>sport</td>\n",
       "      <td>souness delight at euro progress boss graeme s...</td>\n",
       "    </tr>\n",
       "  </tbody>\n",
       "</table>\n",
       "<p>2225 rows × 2 columns</p>\n",
       "</div>"
      ],
      "text/plain": [
       "           category                                               text\n",
       "0              tech  tv future in the hands of viewers with home th...\n",
       "1          business  worldcom boss  left books alone  former worldc...\n",
       "2             sport  tigers wary of farrell  gamble  leicester say ...\n",
       "3             sport  yeading face newcastle in fa cup premiership s...\n",
       "4     entertainment  ocean s twelve raids box office ocean s twelve...\n",
       "...             ...                                                ...\n",
       "2220       business  cars pull down us retail figures us retail sal...\n",
       "2221       politics  kilroy unveils immigration policy ex-chatshow ...\n",
       "2222  entertainment  rem announce new glasgow concert us band rem h...\n",
       "2223       politics  how political squabbles snowball it s become c...\n",
       "2224          sport  souness delight at euro progress boss graeme s...\n",
       "\n",
       "[2225 rows x 2 columns]"
      ]
     },
     "execution_count": 7,
     "metadata": {},
     "output_type": "execute_result"
    }
   ],
   "source": [
    "print(f\"Shape : {news_data.shape}, \\n\\nColumns: {news_data.columns}, \\n\\nCategories: {news_data.category.unique()}\")\n",
    "\n",
    "news_data"
   ]
  },
  {
   "cell_type": "code",
   "execution_count": 8,
   "id": "8f4cc8d9",
   "metadata": {},
   "outputs": [
    {
     "name": "stdout",
     "output_type": "stream",
     "text": [
      "category    category\n",
      "text          object\n",
      "dtype: object\n"
     ]
    }
   ],
   "source": [
    "news_data['category'] = news_data['category'].astype('category')\n",
    "print(news_data.dtypes)"
   ]
  },
  {
   "cell_type": "code",
   "execution_count": 9,
   "id": "e9afde86",
   "metadata": {},
   "outputs": [
    {
     "data": {
      "image/png": "[encoded data removed]",
      "text/plain": [
       "<Figure size 1000x600 with 1 Axes>"
      ]
     },
     "metadata": {},
     "output_type": "display_data"
    }
   ],
   "source": [
    "plt.figure(figsize=(10,6))\n",
    "sns.countplot(x='category', data=news_data, hue='category')\n",
    "plt.show()"
   ]
  },
  {
   "cell_type": "code",
   "execution_count": 10,
   "id": "aade43ad",
   "metadata": {},
   "outputs": [
    {
     "name": "stdout",
     "output_type": "stream",
     "text": [
      "['tech', 'business', 'sport', 'entertainment', 'politics']\n",
      "Categories (5, object): ['business', 'entertainment', 'politics', 'sport', 'tech']\n"
     ]
    }
   ],
   "source": [
    "print(news_data['category'].unique())"
   ]
  },
  {
   "cell_type": "code",
   "execution_count": 11,
   "id": "febaf697",
   "metadata": {},
   "outputs": [],
   "source": [
    "class DataPreparation:\n",
    "    def __init__(self, data, column='text'):\n",
    "        self.df = data\n",
    "        self.column = column\n",
    "    \n",
    "    def preprocess(self):\n",
    "        self.tokenize()\n",
    "        self.remove_stopwords()\n",
    "        self.remove_non_words()\n",
    "        self.lemmatize_words()\n",
    "        \n",
    "        return self.df\n",
    "    \n",
    "    def tokenize(self):\n",
    "        self.df['clean_text'] = self.df[self.column].apply(nltk.word_tokenize)\n",
    "        print(\"Tokenization is done.\")\n",
    "    \n",
    "    def remove_stopwords(self):\n",
    "        stopword_set = set(nltk.corpus.stopwords.words('english'))\n",
    "        \n",
    "        rem_stopword = lambda words: [item for item in words if item not in stopword_set]\n",
    "        \n",
    "        self.df['clean_text'] = self.df['clean_text'].apply(rem_stopword)\n",
    "        print(\"Remove stopwords done.\")\n",
    "    \n",
    "    def remove_non_words(self):\n",
    "        \"\"\"\n",
    "            Remove all non alpha characters from the text data\n",
    "            :numbers: 0-9\n",
    "            :punctuation: All english punctuations\n",
    "            :special characters: All english special characters\n",
    "        \"\"\"\n",
    "        regpatrn = '[a-z]+'\n",
    "        rem_special_chars = lambda x: [item for item in x if re.match(regpatrn, item)]\n",
    "        self.df['clean_text'] = self.df['clean_text'].apply(rem_special_chars)\n",
    "        print(\"Removed non english characters is done.\")\n",
    "        \n",
    "    def lemmatize_words(self):\n",
    "        lemma = nltk.stem.wordnet.WordNetLemmatizer()\n",
    "        \n",
    "        on_word_lemma = lambda x: [lemma.lemmatize(w, pos='v') for w in x]\n",
    "        \n",
    "        self.df['clean_text'] = self.df['clean_text'].apply(on_word_lemma)\n",
    "        print(\"Lemmatization on the words.\")"
   ]
  },
  {
   "cell_type": "code",
   "execution_count": 12,
   "id": "18ce6919",
   "metadata": {},
   "outputs": [
    {
     "name": "stdout",
     "output_type": "stream",
     "text": [
      "Tokenization is done.\n",
      "Remove stopwords done.\n",
      "Removed non english characters is done.\n",
      "Lemmatization on the words.\n"
     ]
    }
   ],
   "source": [
    "data_prep = DataPreparation(news_data)\n",
    "\n",
    "cleanse_df = data_prep.preprocess()"
   ]
  },
  {
   "cell_type": "code",
   "execution_count": 13,
   "id": "98c09ae9",
   "metadata": {},
   "outputs": [
    {
     "data": {
      "text/plain": [
       "0       [tv, future, hand, viewers, home, theatre, sys...\n",
       "1       [worldcom, boss, leave, book, alone, former, w...\n",
       "2       [tigers, wary, farrell, gamble, leicester, say...\n",
       "3       [yeading, face, newcastle, fa, cup, premiershi...\n",
       "4       [ocean, twelve, raid, box, office, ocean, twel...\n",
       "                              ...                        \n",
       "2220    [cars, pull, us, retail, figure, us, retail, s...\n",
       "2221    [kilroy, unveil, immigration, policy, ex-chats...\n",
       "2222    [rem, announce, new, glasgow, concert, us, ban...\n",
       "2223    [political, squabble, snowball, become, common...\n",
       "2224    [souness, delight, euro, progress, boss, graem...\n",
       "Name: clean_text, Length: 2225, dtype: object"
      ]
     },
     "execution_count": 13,
     "metadata": {},
     "output_type": "execute_result"
    }
   ],
   "source": [
    "cleanse_df['clean_text']"
   ]
  },
  {
   "cell_type": "code",
   "execution_count": 14,
   "id": "3c0f86a9",
   "metadata": {},
   "outputs": [],
   "source": [
    "vec_model = Word2Vec(cleanse_df['clean_text'])\n",
    "w2v = dict(zip(vec_model.wv.index_to_key, vec_model.wv.vectors))"
   ]
  },
  {
   "cell_type": "code",
   "execution_count": 15,
   "id": "a92fab7a",
   "metadata": {},
   "outputs": [],
   "source": [
    "class Vectorizer(object):\n",
    "    def __init__(self, vec):\n",
    "        self.vec = vec\n",
    "        self.dim = len(vec.values())\n",
    "        \n",
    "    def fit(self, X, y):\n",
    "        return self\n",
    "    \n",
    "    def transform(self, X):\n",
    "        return np.array([np.mean([self.vec[w] for w in words if w in self.vec] or [np.zeros(self.dim)], axis=0) for words in X])\n",
    "    \n",
    "\n",
    "    \n",
    "\n",
    "# Classifier class\n",
    "class Classifier(object):\n",
    "    def __init__(self, model, param):\n",
    "        self.model = model\n",
    "        self.param = param\n",
    "        self.gsearch = GridSearchCV(self.model, self.param, cv=5, error_score=0, refit=True)\n",
    "        \n",
    "    def fit(self, X, y):\n",
    "        return self.gsearch.fit(X, y)\n",
    "    \n",
    "    def predict(self, X):\n",
    "        return self.gsearch.predict(X)\n",
    "\n",
    "clf_models = {\n",
    "    'Naive Bayes': GaussianNB(),\n",
    "    'SVC': SVC(),\n",
    "    'Decision Tree': DecisionTreeClassifier(),\n",
    "    'SGD Classifier': SGDClassifier(),\n",
    "    'Perceptron': MLPClassifier()\n",
    "}\n",
    "\n",
    "clf_params = {\n",
    "    'Naive Bayes': {},\n",
    "    'SVC' : {'kernel': ['linear', 'rbf']},\n",
    "    'Decision Tree': {'min_samples_split': [2, 5]},\n",
    "    'SGD Classifier': { 'penalty': ['l2', 'l1', 'elasticnet'] },\n",
    "    'Perceptron': {'activation': ['tanh', 'relu']}\n",
    "}"
   ]
  },
  {
   "cell_type": "code",
   "execution_count": 16,
   "id": "13577514",
   "metadata": {},
   "outputs": [],
   "source": [
    "X_train, X_valid, y_train, y_valid = train_test_split(cleanse_df['clean_text'], cleanse_df['category'], test_size=0.2, shuffle=True)"
   ]
  },
  {
   "cell_type": "code",
   "execution_count": 17,
   "id": "b2fe13d6",
   "metadata": {},
   "outputs": [
    {
     "name": "stdout",
     "output_type": "stream",
     "text": [
      "Naive Bayes :\n",
      "Accuracy: 0.921 \tPrecision: 0.921 \tRecall: 0.921 \tF1-Score: 0.920\n",
      "\n",
      "SVC :\n",
      "Accuracy: 0.939 \tPrecision: 0.938 \tRecall: 0.938 \tF1-Score: 0.937\n",
      "\n",
      "Decision Tree :\n",
      "Accuracy: 0.910 \tPrecision: 0.910 \tRecall: 0.907 \tF1-Score: 0.908\n",
      "\n",
      "SGD Classifier :\n",
      "Accuracy: 0.944 \tPrecision: 0.943 \tRecall: 0.944 \tF1-Score: 0.942\n",
      "\n",
      "Perceptron :\n",
      "Accuracy: 0.948 \tPrecision: 0.947 \tRecall: 0.948 \tF1-Score: 0.947\n",
      "\n"
     ]
    }
   ],
   "source": [
    "# Iterate through the model names\n",
    "for key in clf_models.keys():\n",
    "    \n",
    "    clf = Pipeline([('Word2Vec', Vectorizer(w2v)), ('Classifier', Classifier(clf_models[key], clf_params[key]))])\n",
    "    \n",
    "    # Fitting the data\n",
    "    \n",
    "    clf.fit(X_train, y_train)\n",
    "    \n",
    "    y_preds = clf.predict(X_valid)\n",
    "    \n",
    "    \n",
    "    print(key, \":\")\n",
    "    print(\"Accuracy: %1.3f \\tPrecision: %1.3f \\tRecall: %1.3f \\tF1-Score: %1.3f\\n\" % (accuracy_score(y_valid, y_preds),\n",
    "                                                                                     precision_score(y_valid, y_preds, average='macro'),\n",
    "                                                                                     recall_score(y_valid, y_preds, average='macro'),\n",
    "                                                                                     f1_score(y_valid, y_preds, average='macro')))"
   ]
  },
  {
   "cell_type": "code",
   "execution_count": 18,
   "id": "1befc91d",
   "metadata": {},
   "outputs": [],
   "source": [
    "#TFIDF"
   ]
  },
  {
   "cell_type": "code",
   "execution_count": 19,
   "id": "5da701d2",
   "metadata": {},
   "outputs": [],
   "source": [
    "def vectorize(vector, X_train, X_test):\n",
    "    vector_fit = vector.fit(X_train)\n",
    "    \n",
    "    X_train_vec = vector_fit.transform(X_train)\n",
    "    X_test_vec = vector_fit.transform(X_test)\n",
    "    \n",
    "    print(\"Vectorization is completed.\")\n",
    "    return X_train_vec, X_test_vec\n",
    "\n",
    "def label_encoding(y_train):\n",
    "    \"\"\"\n",
    "        Encode the given list of class labels\n",
    "        :y_train_enc: returns list of encoded classes\n",
    "        :labels: actual class labels\n",
    "    \"\"\"\n",
    "    lbl_enc = LabelEncoder()\n",
    "    \n",
    "    y_train_enc = lbl_enc.fit_transform(y_train)\n",
    "    labels = lbl_enc.classes_\n",
    "    \n",
    "    return y_train_enc, labels\n",
    "\n",
    "def algorithm_stack(models, params, X_train, X_test, y_train, y_test):\n",
    "    \n",
    "    if not set(models.keys()).issubset(set(params.keys())):\n",
    "        raise ValueError('Keys do not match')\n",
    "        \n",
    "    for key in models.keys():\n",
    "        model = models[key]\n",
    "        param = params[key]\n",
    "        \n",
    "        gs = GridSearchCV(model, param, cv=5, error_score=0, refit=True)\n",
    "        gs.fit(X_train, y_train)\n",
    "        \n",
    "        y_pred = gs.predict(X_test)\n",
    "        \n",
    "        print(key, \":\")\n",
    "        print(\"Accuracy: %1.3f \\tPrecision: %1.3f \\tRecall: %1.3f \\tF1-Score: %1.3f\\n\" % (accuracy_score(y_test, y_pred),\n",
    "                                                                                     precision_score(y_test, y_pred, average='macro'),\n",
    "                                                                                     recall_score(y_test, y_pred, average='macro'),\n",
    "                                                                                     f1_score(y_test, y_pred, average='macro')))\n",
    "    return"
   ]
  },
  {
   "cell_type": "code",
   "execution_count": 20,
   "id": "8ced07c2",
   "metadata": {},
   "outputs": [
    {
     "name": "stdout",
     "output_type": "stream",
     "text": [
      "Vectorization is completed.\n",
      "(1780, 26970) (445, 26970)\n"
     ]
    }
   ],
   "source": [
    "# Encode the class labels\n",
    "y_enc_train, labels = label_encoding(news_data['category'])\n",
    "\n",
    "# Split from the loaded dataset\n",
    "X_train, X_valid, y_train, y_test = train_test_split(news_data['text'], y_enc_train, test_size=0.2, shuffle=True)\n",
    "\n",
    "# TFIDFVectorizer \n",
    "X_train_vec, X_valid_vec = vectorize(TfidfVectorizer(), X_train, X_valid)\n",
    "\n",
    "print(X_train_vec.shape, X_valid_vec.shape)\n",
    "\n",
    "clf_models = {\n",
    "    'Naive Bayes': MultinomialNB(),\n",
    "    'SVC': SVC(),\n",
    "    'Decision Tree': DecisionTreeClassifier(),\n",
    "    'SGD Classifier': SGDClassifier(),\n",
    "}\n",
    "\n",
    "\n",
    "# Modified parameters\n",
    "clf_params = {\n",
    "    'Naive Bayes': {'alpha': [0.5, 1], 'fit_prior': [True, False] },\n",
    "    'SVC' : {'kernel': ['linear', 'rbf']},\n",
    "    'Decision Tree': {'min_samples_split': [1, 2, 5]},\n",
    "    'SGD Classifier': { 'penalty': ['l2', 'l1', 'elasticnet'] },\n",
    "    #'Perceptron': {'alpha': [0.0001, 0.001], 'activation': ['tanh', 'relu']}\n",
    "}"
   ]
  },
  {
   "cell_type": "code",
   "execution_count": 21,
   "id": "358cd116",
   "metadata": {},
   "outputs": [
    {
     "data": {
      "text/plain": [
       "array([4, 4, 3, ..., 2, 1, 3])"
      ]
     },
     "execution_count": 21,
     "metadata": {},
     "output_type": "execute_result"
    }
   ],
   "source": [
    "y_train"
   ]
  },
  {
   "cell_type": "code",
   "execution_count": 22,
   "id": "fee5b1f5",
   "metadata": {},
   "outputs": [
    {
     "name": "stdout",
     "output_type": "stream",
     "text": [
      "Naive Bayes :\n",
      "Accuracy: 0.971 \tPrecision: 0.969 \tRecall: 0.970 \tF1-Score: 0.969\n",
      "\n",
      "SVC :\n",
      "Accuracy: 0.989 \tPrecision: 0.989 \tRecall: 0.989 \tF1-Score: 0.989\n",
      "\n",
      "Decision Tree :\n",
      "Accuracy: 0.827 \tPrecision: 0.825 \tRecall: 0.827 \tF1-Score: 0.824\n",
      "\n",
      "SGD Classifier :\n",
      "Accuracy: 0.989 \tPrecision: 0.989 \tRecall: 0.989 \tF1-Score: 0.989\n",
      "\n"
     ]
    }
   ],
   "source": [
    "algorithm_stack(clf_models, clf_params, X_train_vec, X_valid_vec, y_train, y_test)"
   ]
  },
  {
   "cell_type": "code",
   "execution_count": 23,
   "id": "493ed907",
   "metadata": {},
   "outputs": [
    {
     "name": "stdout",
     "output_type": "stream",
     "text": [
      "Model saved as SGDClassifier.pkl\n"
     ]
    }
   ],
   "source": [
    "import joblib\n",
    "\n",
    "# Save the trained model\n",
    "model_filename = 'SGDClassifier.pkl'\n",
    "joblib.dump(clf_params, model_filename)\n",
    "\n",
    "print(f\"Model saved as {model_filename}\")"
   ]
  },
  {
   "cell_type": "code",
   "execution_count": 26,
   "id": "25998323",
   "metadata": {},
   "outputs": [
    {
     "name": "stdout",
     "output_type": "stream",
     "text": [
      "Vectorization is completed.\n",
      "(1780, 27042) (445, 27042)\n",
      "Best Parameters for SGD Classifier: {'alpha': 0.001, 'max_iter': 1000, 'penalty': 'l2', 'tol': 0.0001}\n"
     ]
    }
   ],
   "source": [
    "# Encode the class labels\n",
    "y_enc_train, labels = label_encoding(news_data['category'])\n",
    "\n",
    "# Split from the loaded dataset\n",
    "X_train, X_valid, y_train, y_test = train_test_split(news_data['text'], y_enc_train, test_size=0.2, shuffle=True)\n",
    "\n",
    "# TFIDFVectorizer \n",
    "X_train_vec, X_valid_vec = vectorize(TfidfVectorizer(), X_train, X_valid)\n",
    "\n",
    "print(X_train_vec.shape, X_valid_vec.shape)\n",
    "\n",
    "# SGD Classifier\n",
    "sgd_classifier = SGDClassifier()\n",
    "sgd_params = {'penalty': ['l2', 'l1', 'elasticnet'],\n",
    "              'alpha': [0.0001, 0.001, 0.01],\n",
    "              'max_iter': [1000, 2000],\n",
    "              'tol': [1e-3, 1e-4]}\n",
    "\n",
    "# Grid search for SGD Classifier\n",
    "sgd_grid = GridSearchCV(sgd_classifier, sgd_params, cv=3, n_jobs=-1)\n",
    "sgd_grid.fit(X_train_vec, y_train)\n",
    "\n",
    "# Print best parameters\n",
    "print(\"Best Parameters for SGD Classifier:\", sgd_grid.best_params_)"
   ]
  },
  {
   "cell_type": "code",
   "execution_count": 27,
   "id": "cf71c71b",
   "metadata": {},
   "outputs": [
    {
     "name": "stdout",
     "output_type": "stream",
     "text": [
      "Model saved as SGDcClassifier_model.pkl\n"
     ]
    }
   ],
   "source": [
    "import joblib\n",
    "\n",
    "# Save the trained model\n",
    "model_filename = 'SGDcClassifier_model.pkl'\n",
    "joblib.dump(sgd_grid, model_filename)\n",
    "\n",
    "print(f\"Model saved as {model_filename}\")"
   ]
  },
  {
   "cell_type": "code",
   "execution_count": 28,
   "id": "4c6d2ee8",
   "metadata": {},
   "outputs": [
    {
     "name": "stdout",
     "output_type": "stream",
     "text": [
      "Current working directory: C:\\Users\\Rajasekar\n"
     ]
    }
   ],
   "source": [
    "import os\n",
    "\n",
    "current_directory = os.getcwd()\n",
    "print(f\"Current working directory: {current_directory}\")"
   ]
  },
  {
   "cell_type": "code",
   "execution_count": 31,
   "id": "05628874",
   "metadata": {},
   "outputs": [],
   "source": [
    "model = Word2Vec(sentences=cleanse_df['clean_text'], vector_size=1000, window=5, min_count=1, workers=4)\n",
    "model.save(\"word2vec.model\")"
   ]
  },
  {
   "cell_type": "code",
   "execution_count": 32,
   "id": "4f3d157e",
   "metadata": {},
   "outputs": [],
   "source": [
    "vec_model = Word2Vec(cleanse_df['clean_text'])\n",
    "w2v = dict(zip(vec_model.wv.index_to_key, vec_model.wv.vectors))"
   ]
  },
  {
   "cell_type": "code",
   "execution_count": 33,
   "id": "e854e543",
   "metadata": {},
   "outputs": [],
   "source": [
    "model.save(\"w2v_model\")"
   ]
  },
  {
   "cell_type": "code",
   "execution_count": null,
   "id": "f7dc7b8f",
   "metadata": {},
   "outputs": [],
   "source": []
  }
 ],
 "metadata": {
  "kernelspec": {
   "display_name": "Python 3 (ipykernel)",
   "language": "python",
   "name": "python3"
  },
  "language_info": {
   "codemirror_mode": {
    "name": "ipython",
    "version": 3
   },
   "file_extension": ".py",
   "mimetype": "text/x-python",
   "name": "python",
   "nbconvert_exporter": "python",
   "pygments_lexer": "ipython3",
   "version": "3.10.9"
  }
 },
 "nbformat": 4,
 "nbformat_minor": 5
}
